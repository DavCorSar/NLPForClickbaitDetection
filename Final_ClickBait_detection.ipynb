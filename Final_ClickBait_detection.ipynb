{
 "cells": [
  {
   "cell_type": "code",
   "execution_count": 1,
   "id": "4da5e898",
   "metadata": {},
   "outputs": [],
   "source": [
    "import torch\n",
    "import numpy as np\n",
    "from transformers import BertTokenizer#, XLNetModel\n",
    "import pandas as pd\n",
    "from torch import nn\n",
    "from transformers import BertModel\n",
    "from torch.optim import Adam, AdamW\n",
    "from tqdm import tqdm, notebook\n",
    "import nlpaug.augmenter.word.context_word_embs as nwa\n",
    "from sklearn.metrics import classification_report, confusion_matrix, ConfusionMatrixDisplay"
   ]
  },
  {
   "cell_type": "code",
   "execution_count": 2,
   "id": "de19c267",
   "metadata": {},
   "outputs": [],
   "source": [
    "tokenizer = BertTokenizer.from_pretrained('bert-base-cased')\n",
    "\n",
    "labels = {'no-clickbait': 0, 'clickbait' : 1}\n",
    "\n",
    "class Dataset(torch.utils.data.Dataset):\n",
    "\n",
    "    def __init__(self, df):\n",
    "\n",
    "        self.labels = [labels[label] for label in df['truthClass']]\n",
    "        self.texts = [tokenizer(text, \n",
    "                               padding='max_length', max_length = 512, truncation=True,\n",
    "                                return_tensors=\"pt\") for text in df['postText']]\n",
    "\n",
    "    def classes(self):\n",
    "        return self.labels\n",
    "\n",
    "    def __len__(self):\n",
    "        return len(self.labels)\n",
    "\n",
    "    def get_batch_labels(self, idx):\n",
    "        # Fetch a batch of labels\n",
    "        return np.array(self.labels[idx])\n",
    "\n",
    "    def get_batch_texts(self, idx):\n",
    "        # Fetch a batch of inputs\n",
    "        return self.texts[idx]\n",
    "\n",
    "    def __getitem__(self, idx):\n",
    "\n",
    "        batch_texts = self.get_batch_texts(idx)\n",
    "        batch_y = self.get_batch_labels(idx)\n",
    "\n",
    "        return batch_texts, batch_y\n",
    "    \n",
    "    \n",
    "    \n",
    "    \n",
    "    \n",
    "class BertClassifier(nn.Module):\n",
    "\n",
    "    def __init__(self, dropout=0.5):\n",
    "\n",
    "        super(BertClassifier, self).__init__()\n",
    "\n",
    "        self.bert = BertModel.from_pretrained('bert-base-cased')\n",
    "        self.dropout = nn.Dropout(dropout)\n",
    "        self.linear = nn.Linear(768, 2)\n",
    "        self.relu = nn.ReLU()\n",
    "\n",
    "    def forward(self, input_id, mask):\n",
    "\n",
    "        _, pooled_output = self.bert(input_ids= input_id, attention_mask=mask,return_dict=False)\n",
    "        dropout_output = self.dropout(pooled_output)\n",
    "        linear_output = self.linear(dropout_output)\n",
    "        final_layer = self.relu(linear_output)\n",
    "\n",
    "        return final_layer\n",
    "\n",
    "    \n",
    "def train(model, train_data, val_data, learning_rate, epochs):\n",
    "\n",
    "    train, val = Dataset(train_data), Dataset(val_data)\n",
    "\n",
    "    train_dataloader = torch.utils.data.DataLoader(train, batch_size=2, shuffle=True)\n",
    "    val_dataloader = torch.utils.data.DataLoader(val, batch_size=2)\n",
    "\n",
    "    use_cuda = torch.cuda.is_available()\n",
    "    device = torch.device(\"cuda\" if use_cuda else \"cpu\")\n",
    "\n",
    "    criterion = nn.CrossEntropyLoss()\n",
    "    optimizer = Adam(model.parameters(), lr= learning_rate)\n",
    "\n",
    "    if use_cuda:\n",
    "\n",
    "            model = model.cuda()\n",
    "            criterion = criterion.cuda()\n",
    "\n",
    "    for epoch_num in range(epochs):\n",
    "\n",
    "            total_acc_train = 0\n",
    "            total_loss_train = 0\n",
    "\n",
    "            for train_input, train_label in notebook.tqdm(train_dataloader):\n",
    "\n",
    "                train_label = train_label.to(device)\n",
    "                mask = train_input['attention_mask'].to(device)\n",
    "                input_id = train_input['input_ids'].squeeze(1).to(device)\n",
    "\n",
    "                output = model(input_id, mask)\n",
    "                \n",
    "                batch_loss = criterion(output, train_label)\n",
    "                total_loss_train += batch_loss.item()\n",
    "                \n",
    "                acc = (output.argmax(dim=1) == train_label).sum().item()\n",
    "                total_acc_train += acc\n",
    "\n",
    "                model.zero_grad()\n",
    "                batch_loss.backward()\n",
    "                optimizer.step()\n",
    "            \n",
    "            total_acc_val = 0\n",
    "            total_loss_val = 0\n",
    "\n",
    "            with torch.no_grad():\n",
    "\n",
    "                for val_input, val_label in val_dataloader:\n",
    "\n",
    "                    val_label = val_label.to(device)\n",
    "                    mask = val_input['attention_mask'].to(device)\n",
    "                    input_id = val_input['input_ids'].squeeze(1).to(device)\n",
    "\n",
    "                    output = model(input_id, mask)\n",
    "\n",
    "                    batch_loss = criterion(output, val_label)\n",
    "                    total_loss_val += batch_loss.item()\n",
    "                    \n",
    "                    acc = (output.argmax(dim=1) == val_label).sum().item()\n",
    "                    total_acc_val += acc\n",
    "            \n",
    "            print(\n",
    "                f'Epochs: {epoch_num + 1} | Train Loss: {total_loss_train / len(train_data): .3f} \\\n",
    "                | Train Accuracy: {total_acc_train / len(train_data): .3f} \\\n",
    "                | Val Loss: {total_loss_val / len(val_data): .3f} \\\n",
    "                | Val Accuracy: {total_acc_val / len(val_data): .3f}')\n"
   ]
  },
  {
   "cell_type": "markdown",
   "id": "7d2a04eb",
   "metadata": {},
   "source": [
    "Primero de todo vamos a hacer una pequeña visualización de los datos para familiarizarnos con ellos:"
   ]
  },
  {
   "cell_type": "code",
   "execution_count": 19,
   "id": "e5f20b34",
   "metadata": {},
   "outputs": [
    {
     "data": {
      "text/html": [
       "<div>\n",
       "<style scoped>\n",
       "    .dataframe tbody tr th:only-of-type {\n",
       "        vertical-align: middle;\n",
       "    }\n",
       "\n",
       "    .dataframe tbody tr th {\n",
       "        vertical-align: top;\n",
       "    }\n",
       "\n",
       "    .dataframe thead th {\n",
       "        text-align: right;\n",
       "    }\n",
       "</style>\n",
       "<table border=\"1\" class=\"dataframe\">\n",
       "  <thead>\n",
       "    <tr style=\"text-align: right;\">\n",
       "      <th></th>\n",
       "      <th>Unnamed: 0</th>\n",
       "      <th>postMedia</th>\n",
       "      <th>postText</th>\n",
       "      <th>id</th>\n",
       "      <th>targetCaptions</th>\n",
       "      <th>targetParagraphs</th>\n",
       "      <th>targetTitle</th>\n",
       "      <th>postTimestamp</th>\n",
       "      <th>targetKeywords</th>\n",
       "      <th>targetDescription</th>\n",
       "      <th>truthJudgments</th>\n",
       "      <th>truthMean</th>\n",
       "      <th>truthClass</th>\n",
       "      <th>truthMedian</th>\n",
       "      <th>truthMode</th>\n",
       "    </tr>\n",
       "  </thead>\n",
       "  <tbody>\n",
       "    <tr>\n",
       "      <th>0</th>\n",
       "      <td>0</td>\n",
       "      <td>[]</td>\n",
       "      <td>UK’s response to modern slavery leaving victim...</td>\n",
       "      <td>858462320779026432</td>\n",
       "      <td>['modern-slavery-rex.jpg']</td>\n",
       "      <td>['Thousands of modern slavery victims have\\xa0...</td>\n",
       "      <td>‘Inexcusable’ failures in UK’s response to mod...</td>\n",
       "      <td>Sat Apr 29 23:25:41 +0000 2017</td>\n",
       "      <td>modern slavery, Department For Work And Pensio...</td>\n",
       "      <td>“Inexcusable” failures in the UK’s system for ...</td>\n",
       "      <td>[0.33333333330000003, 0.0, 0.33333333330000003...</td>\n",
       "      <td>0.133333</td>\n",
       "      <td>no-clickbait</td>\n",
       "      <td>0.000000</td>\n",
       "      <td>0.000000</td>\n",
       "    </tr>\n",
       "    <tr>\n",
       "      <th>1</th>\n",
       "      <td>1</td>\n",
       "      <td>[]</td>\n",
       "      <td>this is good</td>\n",
       "      <td>858421020331560960</td>\n",
       "      <td>['In this July 1, 2010 file photo, Dr. Charmai...</td>\n",
       "      <td>['President Donald Trump has appointed the\\xa0...</td>\n",
       "      <td>Donald Trump Appoints Pro-Life Advocate as Ass...</td>\n",
       "      <td>Sat Apr 29 20:41:34 +0000 2017</td>\n",
       "      <td>Americans United for Life, Dr. Charmaine Yoest...</td>\n",
       "      <td>President Donald Trump has appointed pro-life ...</td>\n",
       "      <td>[1.0, 1.0, 1.0, 1.0, 1.0]</td>\n",
       "      <td>1.000000</td>\n",
       "      <td>clickbait</td>\n",
       "      <td>1.000000</td>\n",
       "      <td>1.000000</td>\n",
       "    </tr>\n",
       "    <tr>\n",
       "      <th>2</th>\n",
       "      <td>2</td>\n",
       "      <td>[]</td>\n",
       "      <td>The \"forgotten\" Trump roast: Relive his brutal...</td>\n",
       "      <td>858368123753435136</td>\n",
       "      <td>[\"President Trump will not attend this year's ...</td>\n",
       "      <td>['When the\\xa0White House correspondents’ dinn...</td>\n",
       "      <td>The ‘forgotten’ Trump roast: Relive his brutal...</td>\n",
       "      <td>Sat Apr 29 17:11:23 +0000 2017</td>\n",
       "      <td>trump whcd, whcd, white house correspondents d...</td>\n",
       "      <td>President Trump won't be at this year's White ...</td>\n",
       "      <td>[0.33333333330000003, 1.0, 0.33333333330000003...</td>\n",
       "      <td>0.466667</td>\n",
       "      <td>no-clickbait</td>\n",
       "      <td>0.333333</td>\n",
       "      <td>0.333333</td>\n",
       "    </tr>\n",
       "    <tr>\n",
       "      <th>3</th>\n",
       "      <td>3</td>\n",
       "      <td>[]</td>\n",
       "      <td>Meet the happiest #dog in the world!</td>\n",
       "      <td>858323428260139008</td>\n",
       "      <td>['Maru ', 'Maru', 'Maru', 'Maru', 'Maru']</td>\n",
       "      <td>['Adorable is probably an understatement. This...</td>\n",
       "      <td>Meet The Happiest Dog In The World, Maru The H...</td>\n",
       "      <td>Sat Apr 29 14:13:46 +0000 2017</td>\n",
       "      <td>Maru, husky, dogs, pandas, furball, instagram</td>\n",
       "      <td>The article is about Maru, a husky dog who has...</td>\n",
       "      <td>[1.0, 0.6666666666000001, 1.0, 1.0, 1.0]</td>\n",
       "      <td>0.933333</td>\n",
       "      <td>clickbait</td>\n",
       "      <td>1.000000</td>\n",
       "      <td>1.000000</td>\n",
       "    </tr>\n",
       "    <tr>\n",
       "      <th>4</th>\n",
       "      <td>4</td>\n",
       "      <td>[]</td>\n",
       "      <td>Tokyo's subway is shut down amid fears over an...</td>\n",
       "      <td>858283602626347008</td>\n",
       "      <td>[\"All nine lines of Tokyo's subway system were...</td>\n",
       "      <td>[\"One of Tokyo's major subways systems says it...</td>\n",
       "      <td>Tokyo's subway is shut down amid fears over an...</td>\n",
       "      <td>Sat Apr 29 11:35:31 +0000 2017</td>\n",
       "      <td>Tokyo,subway,shut,fears,North,Korean,attack</td>\n",
       "      <td>The temporary suspension, which lasted ten min...</td>\n",
       "      <td>[0.0, 0.0, 0.0, 0.0, 0.0]</td>\n",
       "      <td>0.000000</td>\n",
       "      <td>no-clickbait</td>\n",
       "      <td>0.000000</td>\n",
       "      <td>0.000000</td>\n",
       "    </tr>\n",
       "  </tbody>\n",
       "</table>\n",
       "</div>"
      ],
      "text/plain": [
       "   Unnamed: 0 postMedia                                           postText  \\\n",
       "0           0        []  UK’s response to modern slavery leaving victim...   \n",
       "1           1        []                                       this is good   \n",
       "2           2        []  The \"forgotten\" Trump roast: Relive his brutal...   \n",
       "3           3        []               Meet the happiest #dog in the world!   \n",
       "4           4        []  Tokyo's subway is shut down amid fears over an...   \n",
       "\n",
       "                   id                                     targetCaptions  \\\n",
       "0  858462320779026432                         ['modern-slavery-rex.jpg']   \n",
       "1  858421020331560960  ['In this July 1, 2010 file photo, Dr. Charmai...   \n",
       "2  858368123753435136  [\"President Trump will not attend this year's ...   \n",
       "3  858323428260139008          ['Maru ', 'Maru', 'Maru', 'Maru', 'Maru']   \n",
       "4  858283602626347008  [\"All nine lines of Tokyo's subway system were...   \n",
       "\n",
       "                                    targetParagraphs  \\\n",
       "0  ['Thousands of modern slavery victims have\\xa0...   \n",
       "1  ['President Donald Trump has appointed the\\xa0...   \n",
       "2  ['When the\\xa0White House correspondents’ dinn...   \n",
       "3  ['Adorable is probably an understatement. This...   \n",
       "4  [\"One of Tokyo's major subways systems says it...   \n",
       "\n",
       "                                         targetTitle  \\\n",
       "0  ‘Inexcusable’ failures in UK’s response to mod...   \n",
       "1  Donald Trump Appoints Pro-Life Advocate as Ass...   \n",
       "2  The ‘forgotten’ Trump roast: Relive his brutal...   \n",
       "3  Meet The Happiest Dog In The World, Maru The H...   \n",
       "4  Tokyo's subway is shut down amid fears over an...   \n",
       "\n",
       "                    postTimestamp  \\\n",
       "0  Sat Apr 29 23:25:41 +0000 2017   \n",
       "1  Sat Apr 29 20:41:34 +0000 2017   \n",
       "2  Sat Apr 29 17:11:23 +0000 2017   \n",
       "3  Sat Apr 29 14:13:46 +0000 2017   \n",
       "4  Sat Apr 29 11:35:31 +0000 2017   \n",
       "\n",
       "                                      targetKeywords  \\\n",
       "0  modern slavery, Department For Work And Pensio...   \n",
       "1  Americans United for Life, Dr. Charmaine Yoest...   \n",
       "2  trump whcd, whcd, white house correspondents d...   \n",
       "3      Maru, husky, dogs, pandas, furball, instagram   \n",
       "4        Tokyo,subway,shut,fears,North,Korean,attack   \n",
       "\n",
       "                                   targetDescription  \\\n",
       "0  “Inexcusable” failures in the UK’s system for ...   \n",
       "1  President Donald Trump has appointed pro-life ...   \n",
       "2  President Trump won't be at this year's White ...   \n",
       "3  The article is about Maru, a husky dog who has...   \n",
       "4  The temporary suspension, which lasted ten min...   \n",
       "\n",
       "                                      truthJudgments  truthMean    truthClass  \\\n",
       "0  [0.33333333330000003, 0.0, 0.33333333330000003...   0.133333  no-clickbait   \n",
       "1                          [1.0, 1.0, 1.0, 1.0, 1.0]   1.000000     clickbait   \n",
       "2  [0.33333333330000003, 1.0, 0.33333333330000003...   0.466667  no-clickbait   \n",
       "3           [1.0, 0.6666666666000001, 1.0, 1.0, 1.0]   0.933333     clickbait   \n",
       "4                          [0.0, 0.0, 0.0, 0.0, 0.0]   0.000000  no-clickbait   \n",
       "\n",
       "   truthMedian  truthMode  \n",
       "0     0.000000   0.000000  \n",
       "1     1.000000   1.000000  \n",
       "2     0.333333   0.333333  \n",
       "3     1.000000   1.000000  \n",
       "4     0.000000   0.000000  "
      ]
     },
     "execution_count": 19,
     "metadata": {},
     "output_type": "execute_result"
    }
   ],
   "source": [
    "train_df = pd.read_csv('webis_train.csv')\n",
    "test_df = pd.read_csv('webis_test.csv')\n",
    "\n",
    "train_df.head()"
   ]
  },
  {
   "cell_type": "markdown",
   "id": "a82ce9ff",
   "metadata": {},
   "source": [
    "Vamos a hacer un primer modelo, para poder evaluar su rendimiento y poder utilizarlo como baseline"
   ]
  },
  {
   "cell_type": "code",
   "execution_count": 3,
   "id": "1a69a628",
   "metadata": {},
   "outputs": [
    {
     "name": "stderr",
     "output_type": "stream",
     "text": [
      "Some weights of the model checkpoint at bert-base-cased were not used when initializing BertModel: ['cls.predictions.transform.dense.weight', 'cls.predictions.transform.LayerNorm.weight', 'cls.seq_relationship.bias', 'cls.seq_relationship.weight', 'cls.predictions.decoder.weight', 'cls.predictions.transform.dense.bias', 'cls.predictions.transform.LayerNorm.bias', 'cls.predictions.bias']\n",
      "- This IS expected if you are initializing BertModel from the checkpoint of a model trained on another task or with another architecture (e.g. initializing a BertForSequenceClassification model from a BertForPreTraining model).\n",
      "- This IS NOT expected if you are initializing BertModel from the checkpoint of a model that you expect to be exactly identical (initializing a BertForSequenceClassification model from a BertForSequenceClassification model).\n"
     ]
    },
    {
     "data": {
      "application/vnd.jupyter.widget-view+json": {
       "model_id": "72ccd2b2fe32401f82c57674f7a8ea4f",
       "version_major": 2,
       "version_minor": 0
      },
      "text/plain": [
       "  0%|          | 0/9769 [00:00<?, ?it/s]"
      ]
     },
     "metadata": {},
     "output_type": "display_data"
    },
    {
     "name": "stdout",
     "output_type": "stream",
     "text": [
      "Epochs: 1 | Train Loss:  0.199                 | Train Accuracy:  0.829                 | Val Loss:  0.164                 | Val Accuracy:  0.860\n"
     ]
    },
    {
     "data": {
      "application/vnd.jupyter.widget-view+json": {
       "model_id": "0c8bdb7775154d91a0c93533c5a2737e",
       "version_major": 2,
       "version_minor": 0
      },
      "text/plain": [
       "  0%|          | 0/9769 [00:00<?, ?it/s]"
      ]
     },
     "metadata": {},
     "output_type": "display_data"
    },
    {
     "name": "stdout",
     "output_type": "stream",
     "text": [
      "Epochs: 2 | Train Loss:  0.157                 | Train Accuracy:  0.869                 | Val Loss:  0.158                 | Val Accuracy:  0.862\n"
     ]
    },
    {
     "data": {
      "application/vnd.jupyter.widget-view+json": {
       "model_id": "3ac3069e7be04ad69a97c54b7d612037",
       "version_major": 2,
       "version_minor": 0
      },
      "text/plain": [
       "  0%|          | 0/9769 [00:00<?, ?it/s]"
      ]
     },
     "metadata": {},
     "output_type": "display_data"
    },
    {
     "name": "stdout",
     "output_type": "stream",
     "text": [
      "Epochs: 3 | Train Loss:  0.124                 | Train Accuracy:  0.903                 | Val Loss:  0.169                 | Val Accuracy:  0.855\n"
     ]
    },
    {
     "data": {
      "application/vnd.jupyter.widget-view+json": {
       "model_id": "99db0115a90f4daab15105c34202355c",
       "version_major": 2,
       "version_minor": 0
      },
      "text/plain": [
       "  0%|          | 0/9769 [00:00<?, ?it/s]"
      ]
     },
     "metadata": {},
     "output_type": "display_data"
    },
    {
     "name": "stdout",
     "output_type": "stream",
     "text": [
      "Epochs: 4 | Train Loss:  0.081                 | Train Accuracy:  0.944                 | Val Loss:  0.201                 | Val Accuracy:  0.849\n"
     ]
    },
    {
     "data": {
      "application/vnd.jupyter.widget-view+json": {
       "model_id": "acd98db9e0314965a16a3cc11446b6e7",
       "version_major": 2,
       "version_minor": 0
      },
      "text/plain": [
       "  0%|          | 0/9769 [00:00<?, ?it/s]"
      ]
     },
     "metadata": {},
     "output_type": "display_data"
    },
    {
     "name": "stdout",
     "output_type": "stream",
     "text": [
      "Epochs: 5 | Train Loss:  0.050                 | Train Accuracy:  0.972                 | Val Loss:  0.232                 | Val Accuracy:  0.849\n"
     ]
    }
   ],
   "source": [
    "EPOCHS = 5\n",
    "model = BertClassifier()\n",
    "LR = 1e-6\n",
    "\n",
    "train_df = pd.read_csv('webis_train.csv')\n",
    "test_df = pd.read_csv('webis_test.csv')\n",
    "train_df['postText'] = train_df['postText'].astype(str).fillna(\"DUMMY_VALUE\")\n",
    "test_df['postText'] = test_df['postText'].astype(str).fillna(\"DUMMY_VALUE\")\n",
    "\n",
    "train(model, train_df, test_df, LR, EPOCHS)"
   ]
  },
  {
   "cell_type": "code",
   "execution_count": 4,
   "id": "1eb93eb2",
   "metadata": {},
   "outputs": [
    {
     "data": {
      "application/vnd.jupyter.widget-view+json": {
       "model_id": "68a436d69a094887841b279f2a380f2d",
       "version_major": 2,
       "version_minor": 0
      },
      "text/plain": [
       "  0%|          | 0/9490 [00:00<?, ?it/s]"
      ]
     },
     "metadata": {},
     "output_type": "display_data"
    },
    {
     "name": "stdout",
     "output_type": "stream",
     "text": [
      "              precision    recall  f1-score   support\n",
      "\n",
      "no-clickbait       0.90      0.91      0.90     14464\n",
      "   clickbait       0.69      0.67      0.68      4515\n",
      "\n",
      "    accuracy                           0.85     18979\n",
      "   macro avg       0.79      0.79      0.79     18979\n",
      "weighted avg       0.85      0.85      0.85     18979\n",
      "\n"
     ]
    },
    {
     "data": {
      "image/png": "[encoded data removed]",
      "text/plain": [
       "<Figure size 432x288 with 2 Axes>"
      ]
     },
     "metadata": {
      "needs_background": "light"
     },
     "output_type": "display_data"
    }
   ],
   "source": [
    "for param in model.parameters():\n",
    "    param.requires_grad = False\n",
    "model.eval();\n",
    "\n",
    "test_dataloader = torch.utils.data.DataLoader(Dataset(test_df), batch_size=2)\n",
    "\n",
    "use_cuda = torch.cuda.is_available()\n",
    "device = torch.device(\"cuda\" if use_cuda else \"cpu\")\n",
    "\n",
    "real_values, predicted_values = [], []\n",
    "cont = 0\n",
    "for test_input, test_label in notebook.tqdm(test_dataloader):\n",
    "    cont += 1\n",
    "    \n",
    "    test_label = test_label.to(device)\n",
    "    mask = test_input['attention_mask'].to(device)\n",
    "    input_id = test_input['input_ids'].squeeze(1).to(device)\n",
    "    pred = model(input_id, mask)\n",
    "    \n",
    "    for i in range(len(test_label.cpu().numpy())):\n",
    "        real_values.append(test_label.cpu().numpy()[i])\n",
    "        predicted_values.append(pred.argmax(dim=1).cpu().numpy()[i])\n",
    "    \n",
    "    \n",
    "from sklearn.metrics import confusion_matrix, ConfusionMatrixDisplay\n",
    "cm = confusion_matrix(real_values, predicted_values)\n",
    "\n",
    "disp = ConfusionMatrixDisplay(confusion_matrix=cm, display_labels=['no-clickbait', 'clickbait'])\n",
    "disp.plot(xticks_rotation='vertical')\n",
    "\n",
    "\n",
    "print(classification_report(real_values, predicted_values, target_names=['no-clickbait', 'clickbait']))"
   ]
  },
  {
   "cell_type": "markdown",
   "id": "36f53f67",
   "metadata": {},
   "source": [
    "Vemos que clasifica mucho mejor la clase 'no-clickbait' que la clase 'clickbait'. Esto se debe a que los datos estan desbalanceados. Vamos a hacer Data augmentation para poder balancear los datos utilizando la libreria nlpaug."
   ]
  },
  {
   "cell_type": "code",
   "execution_count": 5,
   "id": "8b840487",
   "metadata": {},
   "outputs": [],
   "source": [
    "aug = nwa.ContextualWordEmbsAug(model_path='bert-base-uncased', action=\"insert\")"
   ]
  },
  {
   "cell_type": "markdown",
   "id": "259edc07",
   "metadata": {},
   "source": [
    "Veamos como funciona"
   ]
  },
  {
   "cell_type": "code",
   "execution_count": 6,
   "id": "e048a2ce",
   "metadata": {},
   "outputs": [
    {
     "name": "stdout",
     "output_type": "stream",
     "text": [
      "the quick buck brown fox quickly jumps over the lazy big dog\n",
      "the quick brown silver fox once jumps over the young lazy dog\n"
     ]
    }
   ],
   "source": [
    "text = 'The quick brown fox jumps over the lazy dog'\n",
    "print(aug.augment(text))\n",
    "print(aug.augment(text))"
   ]
  },
  {
   "cell_type": "markdown",
   "id": "6b2d21de",
   "metadata": {},
   "source": [
    "Vamos a aplicarlo a nuestra base de datos y a entrenar un modelo con estos nuevos datos balanceados. Guardaremos el dataset resultante para no tener que volver a hacer el proceso de Data augmentation y ahorrarnos tiempo en el futuro."
   ]
  },
  {
   "cell_type": "code",
   "execution_count": 7,
   "id": "f20498fb",
   "metadata": {},
   "outputs": [
    {
     "name": "stderr",
     "output_type": "stream",
     "text": [
      "Some weights of the model checkpoint at bert-base-cased were not used when initializing BertModel: ['cls.predictions.transform.dense.weight', 'cls.predictions.transform.LayerNorm.weight', 'cls.seq_relationship.bias', 'cls.seq_relationship.weight', 'cls.predictions.decoder.weight', 'cls.predictions.transform.dense.bias', 'cls.predictions.transform.LayerNorm.bias', 'cls.predictions.bias']\n",
      "- This IS expected if you are initializing BertModel from the checkpoint of a model trained on another task or with another architecture (e.g. initializing a BertForSequenceClassification model from a BertForPreTraining model).\n",
      "- This IS NOT expected if you are initializing BertModel from the checkpoint of a model that you expect to be exactly identical (initializing a BertForSequenceClassification model from a BertForSequenceClassification model).\n"
     ]
    },
    {
     "name": "stdout",
     "output_type": "stream",
     "text": [
      "Data augmentation...\n"
     ]
    },
    {
     "data": {
      "application/vnd.jupyter.widget-view+json": {
       "model_id": "26049ea846de4d7baddc4a04c174c5f1",
       "version_major": 2,
       "version_minor": 0
      },
      "text/plain": [
       "  0%|          | 0/19538 [00:00<?, ?it/s]"
      ]
     },
     "metadata": {},
     "output_type": "display_data"
    },
    {
     "name": "stderr",
     "output_type": "stream",
     "text": [
      "/home/david/anaconda3/lib/python3.9/site-packages/pandas/core/series.py:1056: SettingWithCopyWarning: \n",
      "A value is trying to be set on a copy of a slice from a DataFrame\n",
      "\n",
      "See the caveats in the documentation: https://pandas.pydata.org/pandas-docs/stable/user_guide/indexing.html#returning-a-view-versus-a-copy\n",
      "  cacher_needs_updating = self._check_is_chained_assignment_possible()\n"
     ]
    },
    {
     "name": "stdout",
     "output_type": "stream",
     "text": [
      "Starting training...\n"
     ]
    },
    {
     "data": {
      "application/vnd.jupyter.widget-view+json": {
       "model_id": "344c8b5118b3496e9cf9863733fe39a6",
       "version_major": 2,
       "version_minor": 0
      },
      "text/plain": [
       "  0%|          | 0/14530 [00:00<?, ?it/s]"
      ]
     },
     "metadata": {},
     "output_type": "display_data"
    },
    {
     "name": "stdout",
     "output_type": "stream",
     "text": [
      "Epochs: 1 | Train Loss:  0.160                 | Train Accuracy:  0.866                 | Val Loss:  0.163                 | Val Accuracy:  0.858\n"
     ]
    },
    {
     "data": {
      "application/vnd.jupyter.widget-view+json": {
       "model_id": "304a23fe3e2a4e0592cb0f45a7dd31c2",
       "version_major": 2,
       "version_minor": 0
      },
      "text/plain": [
       "  0%|          | 0/14530 [00:00<?, ?it/s]"
      ]
     },
     "metadata": {},
     "output_type": "display_data"
    },
    {
     "name": "stdout",
     "output_type": "stream",
     "text": [
      "Epochs: 2 | Train Loss:  0.103                 | Train Accuracy:  0.918                 | Val Loss:  0.168                 | Val Accuracy:  0.852\n"
     ]
    },
    {
     "data": {
      "application/vnd.jupyter.widget-view+json": {
       "model_id": "3cd1caf8f1af4c219f190b2a5690dfb5",
       "version_major": 2,
       "version_minor": 0
      },
      "text/plain": [
       "  0%|          | 0/14530 [00:00<?, ?it/s]"
      ]
     },
     "metadata": {},
     "output_type": "display_data"
    },
    {
     "name": "stdout",
     "output_type": "stream",
     "text": [
      "Epochs: 3 | Train Loss:  0.068                 | Train Accuracy:  0.952                 | Val Loss:  0.189                 | Val Accuracy:  0.850\n"
     ]
    },
    {
     "data": {
      "application/vnd.jupyter.widget-view+json": {
       "model_id": "282a8e6e6e9a4034ba4a779aafa0e517",
       "version_major": 2,
       "version_minor": 0
      },
      "text/plain": [
       "  0%|          | 0/14530 [00:00<?, ?it/s]"
      ]
     },
     "metadata": {},
     "output_type": "display_data"
    },
    {
     "name": "stdout",
     "output_type": "stream",
     "text": [
      "Epochs: 4 | Train Loss:  0.036                 | Train Accuracy:  0.979                 | Val Loss:  0.237                 | Val Accuracy:  0.841\n"
     ]
    },
    {
     "data": {
      "application/vnd.jupyter.widget-view+json": {
       "model_id": "b0921442f1ce462a91ff7f312d50e2d8",
       "version_major": 2,
       "version_minor": 0
      },
      "text/plain": [
       "  0%|          | 0/14530 [00:00<?, ?it/s]"
      ]
     },
     "metadata": {},
     "output_type": "display_data"
    },
    {
     "name": "stdout",
     "output_type": "stream",
     "text": [
      "Epochs: 5 | Train Loss:  0.021                 | Train Accuracy:  0.990                 | Val Loss:  0.279                 | Val Accuracy:  0.849\n"
     ]
    }
   ],
   "source": [
    "tokenizer = BertTokenizer.from_pretrained('bert-base-cased')\n",
    "\n",
    "labels = {'no-clickbait': 0, 'clickbait' : 1}\n",
    "\n",
    "\n",
    "EPOCHS = 5\n",
    "model = BertClassifier()\n",
    "LR = 1e-6\n",
    "\n",
    "train_df = pd.read_csv('webis_train.csv')\n",
    "test_df = pd.read_csv('webis_test.csv')\n",
    "train_df['postText'] = train_df['postText'].astype(str).fillna(\"DUMMY_VALUE\")\n",
    "test_df['postText'] = test_df['postText'].astype(str).fillna(\"DUMMY_VALUE\")\n",
    "\n",
    "aug = nwa.ContextualWordEmbsAug(model_path='bert-base-uncased', action=\"insert\")\n",
    "it = train_df.shape[0]\n",
    "print(\"Data augmentation...\")\n",
    "for i in notebook.tqdm(range(it)):\n",
    "    if train_df['truthClass'][i] == 'clickbait':\n",
    "        for _ in range(2):\n",
    "            aux = train_df.iloc[i]\n",
    "            text = aux['postText']\n",
    "            #print(text)\n",
    "            newtext = aug.augment(text)\n",
    "            aux['postText'] = newtext\n",
    "            train_df = train_df.append(aux, ignore_index=True)\n",
    "\n",
    "train_df.to_csv('train_data_augmentation.csv')\n",
    "\n",
    "\n",
    "print(\"Starting training...\")\n",
    "train(model, train_df, test_df, LR, EPOCHS)"
   ]
  },
  {
   "cell_type": "code",
   "execution_count": 8,
   "id": "c56be095",
   "metadata": {},
   "outputs": [
    {
     "data": {
      "application/vnd.jupyter.widget-view+json": {
       "model_id": "6a0fe558fbd74443a6bf23914f84b70a",
       "version_major": 2,
       "version_minor": 0
      },
      "text/plain": [
       "  0%|          | 0/9490 [00:00<?, ?it/s]"
      ]
     },
     "metadata": {},
     "output_type": "display_data"
    },
    {
     "name": "stdout",
     "output_type": "stream",
     "text": [
      "              precision    recall  f1-score   support\n",
      "\n",
      "no-clickbait       0.91      0.89      0.90     14464\n",
      "   clickbait       0.66      0.73      0.70      4515\n",
      "\n",
      "    accuracy                           0.85     18979\n",
      "   macro avg       0.79      0.81      0.80     18979\n",
      "weighted avg       0.85      0.85      0.85     18979\n",
      "\n"
     ]
    },
    {
     "data": {
      "image/png": "[encoded data removed]",
      "text/plain": [
       "<Figure size 432x288 with 2 Axes>"
      ]
     },
     "metadata": {
      "needs_background": "light"
     },
     "output_type": "display_data"
    }
   ],
   "source": [
    "for param in model.parameters():\n",
    "    param.requires_grad = False\n",
    "model.eval();\n",
    "\n",
    "test_dataloader = torch.utils.data.DataLoader(Dataset(test_df), batch_size=2)\n",
    "\n",
    "use_cuda = torch.cuda.is_available()\n",
    "device = torch.device(\"cuda\" if use_cuda else \"cpu\")\n",
    "\n",
    "real_values, predicted_values = [], []\n",
    "cont = 0\n",
    "for test_input, test_label in notebook.tqdm(test_dataloader):\n",
    "    cont += 1\n",
    "    \n",
    "    test_label = test_label.to(device)\n",
    "    mask = test_input['attention_mask'].to(device)\n",
    "    input_id = test_input['input_ids'].squeeze(1).to(device)\n",
    "    pred = model(input_id, mask)\n",
    "    \n",
    "    for i in range(len(test_label.cpu().numpy())):\n",
    "        real_values.append(test_label.cpu().numpy()[i])\n",
    "        predicted_values.append(pred.argmax(dim=1).cpu().numpy()[i])\n",
    "    \n",
    "    \n",
    "from sklearn.metrics import confusion_matrix, ConfusionMatrixDisplay\n",
    "cm = confusion_matrix(real_values, predicted_values)\n",
    "\n",
    "disp = ConfusionMatrixDisplay(confusion_matrix=cm, display_labels=['no-clickbait', 'clickbait'])\n",
    "disp.plot(xticks_rotation='vertical')\n",
    "\n",
    "print(classification_report(real_values, predicted_values, target_names=['no-clickbait', 'clickbait']))"
   ]
  },
  {
   "cell_type": "markdown",
   "id": "9c3bd652",
   "metadata": {},
   "source": [
    "Vemos que al hacer data augmentation vemos que por un lado hemos disminuido un poco la accuracy. Por otra parte, hemos conseguido aumentar la precisión en el momento que predecimos clickbait. Dado que el objetivo es predecir clickbait, se puede considerar que es preferible tener una accuracy un poco mas baja a cambio de tener una precisión el la predicción de clickbaits mas alta."
   ]
  },
  {
   "cell_type": "markdown",
   "id": "391a3356",
   "metadata": {},
   "source": [
    "Vemos que la Train Accuracy mejora en cada época de manera considerable, pero la Validation Accuracy se estanca. Estamos sufriendo un problema de overfitting. Vamos a mejorar eso aumentando el parámetro de regularización de nuestro optimizador. Además en los dos modelos anteriores a partir de la tercera época de entrenamiento la validation loss volvia a aumentar. Para reducir el overfitting, vamos a detener el entrenamiento después de la segunda época:"
   ]
  },
  {
   "cell_type": "code",
   "execution_count": 9,
   "id": "cd436c64",
   "metadata": {},
   "outputs": [],
   "source": [
    "def train(model, train_data, val_data, learning_rate, epochs):\n",
    "\n",
    "    train, val = Dataset(train_data), Dataset(val_data)\n",
    "\n",
    "    train_dataloader = torch.utils.data.DataLoader(train, batch_size=2, shuffle=True)\n",
    "    val_dataloader = torch.utils.data.DataLoader(val, batch_size=2)\n",
    "\n",
    "    use_cuda = torch.cuda.is_available()\n",
    "    device = torch.device(\"cuda\" if use_cuda else \"cpu\")\n",
    "\n",
    "    criterion = nn.CrossEntropyLoss()\n",
    "    optimizer = Adam(model.parameters(), lr= learning_rate, weight_decay = 0.1)\n",
    "\n",
    "    if use_cuda:\n",
    "\n",
    "            model = model.cuda()\n",
    "            criterion = criterion.cuda()\n",
    "    \n",
    "\n",
    "    for epoch_num in range(epochs):\n",
    "\n",
    "            total_acc_train = 0\n",
    "            total_loss_train = 0\n",
    "\n",
    "            for train_input, train_label in notebook.tqdm(train_dataloader):\n",
    "\n",
    "                train_label = train_label.to(device)\n",
    "                mask = train_input['attention_mask'].to(device)\n",
    "                input_id = train_input['input_ids'].squeeze(1).to(device)\n",
    "\n",
    "                output = model(input_id, mask)\n",
    "                \n",
    "                batch_loss = criterion(output, train_label)\n",
    "                total_loss_train += batch_loss.item()\n",
    "                \n",
    "                acc = (output.argmax(dim=1) == train_label).sum().item()\n",
    "                total_acc_train += acc\n",
    "\n",
    "                model.zero_grad()\n",
    "                batch_loss.backward()\n",
    "                optimizer.step()\n",
    "            \n",
    "            total_acc_val = 0\n",
    "            total_loss_val = 0\n",
    "\n",
    "            with torch.no_grad():\n",
    "\n",
    "                for val_input, val_label in val_dataloader:\n",
    "\n",
    "                    val_label = val_label.to(device)\n",
    "                    mask = val_input['attention_mask'].to(device)\n",
    "                    input_id = val_input['input_ids'].squeeze(1).to(device)\n",
    "\n",
    "                    output = model(input_id, mask)\n",
    "\n",
    "                    batch_loss = criterion(output, val_label)\n",
    "                    total_loss_val += batch_loss.item()\n",
    "                    \n",
    "                    acc = (output.argmax(dim=1) == val_label).sum().item()\n",
    "                    total_acc_val += acc\n",
    "            \n",
    "            print(\n",
    "                f'Epochs: {epoch_num + 1} | Train Loss: {total_loss_train / len(train_data): .3f} \\\n",
    "                | Train Accuracy: {total_acc_train / len(train_data): .3f} \\\n",
    "                | Val Loss: {total_loss_val / len(val_data): .3f} \\\n",
    "                | Val Accuracy: {total_acc_val / len(val_data): .3f}')\n",
    "                  "
   ]
  },
  {
   "cell_type": "code",
   "execution_count": 10,
   "id": "255775d4",
   "metadata": {},
   "outputs": [
    {
     "name": "stderr",
     "output_type": "stream",
     "text": [
      "Some weights of the model checkpoint at bert-base-cased were not used when initializing BertModel: ['cls.predictions.transform.dense.weight', 'cls.predictions.transform.LayerNorm.weight', 'cls.seq_relationship.bias', 'cls.seq_relationship.weight', 'cls.predictions.decoder.weight', 'cls.predictions.transform.dense.bias', 'cls.predictions.transform.LayerNorm.bias', 'cls.predictions.bias']\n",
      "- This IS expected if you are initializing BertModel from the checkpoint of a model trained on another task or with another architecture (e.g. initializing a BertForSequenceClassification model from a BertForPreTraining model).\n",
      "- This IS NOT expected if you are initializing BertModel from the checkpoint of a model that you expect to be exactly identical (initializing a BertForSequenceClassification model from a BertForSequenceClassification model).\n"
     ]
    },
    {
     "name": "stdout",
     "output_type": "stream",
     "text": [
      "Starting training...\n"
     ]
    },
    {
     "data": {
      "application/vnd.jupyter.widget-view+json": {
       "model_id": "875ec87076874de4a54c49e02d2ca4f9",
       "version_major": 2,
       "version_minor": 0
      },
      "text/plain": [
       "  0%|          | 0/14530 [00:00<?, ?it/s]"
      ]
     },
     "metadata": {},
     "output_type": "display_data"
    },
    {
     "name": "stdout",
     "output_type": "stream",
     "text": [
      "Epochs: 1 | Train Loss:  0.183                 | Train Accuracy:  0.853                 | Val Loss:  0.188                 | Val Accuracy:  0.843\n"
     ]
    },
    {
     "data": {
      "application/vnd.jupyter.widget-view+json": {
       "model_id": "7a2cb09c8c7e47a3aa9662ce30863d70",
       "version_major": 2,
       "version_minor": 0
      },
      "text/plain": [
       "  0%|          | 0/14530 [00:00<?, ?it/s]"
      ]
     },
     "metadata": {},
     "output_type": "display_data"
    },
    {
     "name": "stdout",
     "output_type": "stream",
     "text": [
      "Epochs: 2 | Train Loss:  0.146                 | Train Accuracy:  0.883                 | Val Loss:  0.187                 | Val Accuracy:  0.841\n"
     ]
    }
   ],
   "source": [
    "train_df = pd.read_csv('train_data_augmentation.csv')\n",
    "test_df = pd.read_csv('webis_test.csv')\n",
    "test_df['postText'] = test_df['postText'].astype(str).fillna(\"DUMMY_VALUE\")\n",
    "train_df['postText'] = train_df['postText'].astype(str).fillna(\"DUMMY_VALUE\")\n",
    "\n",
    "EPOCHS = 2\n",
    "model = BertClassifier()\n",
    "LR = 1e-6\n",
    "\n",
    "print(\"Starting training...\")\n",
    "train(model, train_df, test_df, LR, EPOCHS)"
   ]
  },
  {
   "cell_type": "code",
   "execution_count": 11,
   "id": "af59df60",
   "metadata": {},
   "outputs": [
    {
     "data": {
      "application/vnd.jupyter.widget-view+json": {
       "model_id": "e4bf2a5689244f29b62e8f26d15838ea",
       "version_major": 2,
       "version_minor": 0
      },
      "text/plain": [
       "  0%|          | 0/9490 [00:00<?, ?it/s]"
      ]
     },
     "metadata": {},
     "output_type": "display_data"
    },
    {
     "name": "stdout",
     "output_type": "stream",
     "text": [
      "              precision    recall  f1-score   support\n",
      "\n",
      "no-clickbait       0.89      0.91      0.90     14464\n",
      "   clickbait       0.69      0.64      0.66      4515\n",
      "\n",
      "    accuracy                           0.85     18979\n",
      "   macro avg       0.79      0.77      0.78     18979\n",
      "weighted avg       0.84      0.85      0.84     18979\n",
      "\n"
     ]
    },
    {
     "data": {
      "image/png": "[encoded data removed]",
      "text/plain": [
       "<Figure size 432x288 with 2 Axes>"
      ]
     },
     "metadata": {
      "needs_background": "light"
     },
     "output_type": "display_data"
    }
   ],
   "source": [
    "for param in model.parameters():\n",
    "    param.requires_grad = False\n",
    "model.eval();\n",
    "\n",
    "test_dataloader = torch.utils.data.DataLoader(Dataset(test_df), batch_size=2)\n",
    "\n",
    "use_cuda = torch.cuda.is_available()\n",
    "device = torch.device(\"cuda\" if use_cuda else \"cpu\")\n",
    "\n",
    "real_values, predicted_values = [], []\n",
    "cont = 0\n",
    "for test_input, test_label in notebook.tqdm(test_dataloader):\n",
    "    cont += 1\n",
    "    \n",
    "    test_label = test_label.to(device)\n",
    "    mask = test_input['attention_mask'].to(device)\n",
    "    input_id = test_input['input_ids'].squeeze(1).to(device)\n",
    "    pred = model(input_id, mask)\n",
    "    \n",
    "    for i in range(len(test_label.cpu().numpy())):\n",
    "        real_values.append(test_label.cpu().numpy()[i])\n",
    "        predicted_values.append(pred.argmax(dim=1).cpu().numpy()[i])\n",
    "    \n",
    "    \n",
    "from sklearn.metrics import confusion_matrix, ConfusionMatrixDisplay\n",
    "cm = confusion_matrix(real_values, predicted_values)\n",
    "\n",
    "disp = ConfusionMatrixDisplay(confusion_matrix=cm, display_labels=['no-clickbait', 'clickbait'])\n",
    "disp.plot(xticks_rotation='vertical')\n",
    "\n",
    "print(classification_report(real_values, predicted_values, target_names=['no-clickbait', 'clickbait']))"
   ]
  },
  {
   "cell_type": "markdown",
   "id": "9a7ecb48",
   "metadata": {},
   "source": [
    "Vemos que al cambiar el parámetro de regularización ha disminuido la train_accuracy, pero la val_accuracy se ha mantenido. Si nos fijamos en la matriz de confusión hemos perdido precisión en la clasificación de la clase 'no-clickbait', pero hemos ganado una poca en las predicciones de la clase 'clickbait'. Aún así no es suficiente. Vamos a cambiar el optimizador."
   ]
  },
  {
   "cell_type": "code",
   "execution_count": 12,
   "id": "46152bb6",
   "metadata": {},
   "outputs": [],
   "source": [
    "def train(model, train_data, val_data, learning_rate, epochs):\n",
    "\n",
    "    train, val = Dataset(train_data), Dataset(val_data)\n",
    "\n",
    "    train_dataloader = torch.utils.data.DataLoader(train, batch_size=2, shuffle=True)\n",
    "    val_dataloader = torch.utils.data.DataLoader(val, batch_size=2)\n",
    "\n",
    "    use_cuda = torch.cuda.is_available()\n",
    "    device = torch.device(\"cuda\" if use_cuda else \"cpu\")\n",
    "\n",
    "    criterion = nn.CrossEntropyLoss()\n",
    "    optimizer = AdamW(model.parameters(), lr= learning_rate, weight_decay = 0.1)\n",
    "\n",
    "    if use_cuda:\n",
    "\n",
    "            model = model.cuda()\n",
    "            criterion = criterion.cuda()\n",
    "    \n",
    "\n",
    "    for epoch_num in range(epochs):\n",
    "\n",
    "            total_acc_train = 0\n",
    "            total_loss_train = 0\n",
    "\n",
    "            for train_input, train_label in notebook.tqdm(train_dataloader):\n",
    "\n",
    "                train_label = train_label.to(device)\n",
    "                mask = train_input['attention_mask'].to(device)\n",
    "                input_id = train_input['input_ids'].squeeze(1).to(device)\n",
    "\n",
    "                output = model(input_id, mask)\n",
    "                \n",
    "                batch_loss = criterion(output, train_label)\n",
    "                total_loss_train += batch_loss.item()\n",
    "                \n",
    "                acc = (output.argmax(dim=1) == train_label).sum().item()\n",
    "                total_acc_train += acc\n",
    "\n",
    "                model.zero_grad()\n",
    "                batch_loss.backward()\n",
    "                optimizer.step()\n",
    "            \n",
    "            total_acc_val = 0\n",
    "            total_loss_val = 0\n",
    "\n",
    "            with torch.no_grad():\n",
    "\n",
    "                for val_input, val_label in val_dataloader:\n",
    "\n",
    "                    val_label = val_label.to(device)\n",
    "                    mask = val_input['attention_mask'].to(device)\n",
    "                    input_id = val_input['input_ids'].squeeze(1).to(device)\n",
    "\n",
    "                    output = model(input_id, mask)\n",
    "\n",
    "                    batch_loss = criterion(output, val_label)\n",
    "                    total_loss_val += batch_loss.item()\n",
    "                    \n",
    "                    acc = (output.argmax(dim=1) == val_label).sum().item()\n",
    "                    total_acc_val += acc\n",
    "            \n",
    "            print(\n",
    "                f'Epochs: {epoch_num + 1} | Train Loss: {total_loss_train / len(train_data): .3f} \\\n",
    "                | Train Accuracy: {total_acc_train / len(train_data): .3f} \\\n",
    "                | Val Loss: {total_loss_val / len(val_data): .3f} \\\n",
    "                | Val Accuracy: {total_acc_val / len(val_data): .3f}')\n",
    "                  "
   ]
  },
  {
   "cell_type": "code",
   "execution_count": 13,
   "id": "1a2468d4",
   "metadata": {},
   "outputs": [
    {
     "name": "stderr",
     "output_type": "stream",
     "text": [
      "Some weights of the model checkpoint at bert-base-cased were not used when initializing BertModel: ['cls.predictions.transform.dense.weight', 'cls.predictions.transform.LayerNorm.weight', 'cls.seq_relationship.bias', 'cls.seq_relationship.weight', 'cls.predictions.decoder.weight', 'cls.predictions.transform.dense.bias', 'cls.predictions.transform.LayerNorm.bias', 'cls.predictions.bias']\n",
      "- This IS expected if you are initializing BertModel from the checkpoint of a model trained on another task or with another architecture (e.g. initializing a BertForSequenceClassification model from a BertForPreTraining model).\n",
      "- This IS NOT expected if you are initializing BertModel from the checkpoint of a model that you expect to be exactly identical (initializing a BertForSequenceClassification model from a BertForSequenceClassification model).\n"
     ]
    },
    {
     "name": "stdout",
     "output_type": "stream",
     "text": [
      "Starting training...\n"
     ]
    },
    {
     "data": {
      "application/vnd.jupyter.widget-view+json": {
       "model_id": "949883a715954ff3ae80bca83c1b8051",
       "version_major": 2,
       "version_minor": 0
      },
      "text/plain": [
       "  0%|          | 0/14530 [00:00<?, ?it/s]"
      ]
     },
     "metadata": {},
     "output_type": "display_data"
    },
    {
     "name": "stdout",
     "output_type": "stream",
     "text": [
      "Epochs: 1 | Train Loss:  0.155                 | Train Accuracy:  0.871                 | Val Loss:  0.166                 | Val Accuracy:  0.855\n"
     ]
    },
    {
     "data": {
      "application/vnd.jupyter.widget-view+json": {
       "model_id": "52656a9afc654955a4684320f29257cb",
       "version_major": 2,
       "version_minor": 0
      },
      "text/plain": [
       "  0%|          | 0/14530 [00:00<?, ?it/s]"
      ]
     },
     "metadata": {},
     "output_type": "display_data"
    },
    {
     "name": "stdout",
     "output_type": "stream",
     "text": [
      "Epochs: 2 | Train Loss:  0.104                 | Train Accuracy:  0.916                 | Val Loss:  0.164                 | Val Accuracy:  0.857\n"
     ]
    }
   ],
   "source": [
    "train_df = pd.read_csv('train_data_augmentation.csv')\n",
    "test_df = pd.read_csv('webis_test.csv')\n",
    "test_df['postText'] = test_df['postText'].astype(str).fillna(\"DUMMY_VALUE\")\n",
    "train_df['postText'] = train_df['postText'].astype(str).fillna(\"DUMMY_VALUE\")\n",
    "\n",
    "EPOCHS = 2\n",
    "model = BertClassifier()\n",
    "LR = 1e-6\n",
    "\n",
    "print(\"Starting training...\")\n",
    "train(model, train_df, test_df, LR, EPOCHS)"
   ]
  },
  {
   "cell_type": "code",
   "execution_count": 14,
   "id": "9dd9bb04",
   "metadata": {},
   "outputs": [
    {
     "data": {
      "application/vnd.jupyter.widget-view+json": {
       "model_id": "94de7054f3d347fe8949e124c79539e4",
       "version_major": 2,
       "version_minor": 0
      },
      "text/plain": [
       "  0%|          | 0/9490 [00:00<?, ?it/s]"
      ]
     },
     "metadata": {},
     "output_type": "display_data"
    },
    {
     "name": "stdout",
     "output_type": "stream",
     "text": [
      "              precision    recall  f1-score   support\n",
      "\n",
      "no-clickbait       0.90      0.92      0.91     14464\n",
      "   clickbait       0.72      0.69      0.70      4515\n",
      "\n",
      "    accuracy                           0.86     18979\n",
      "   macro avg       0.81      0.80      0.81     18979\n",
      "weighted avg       0.86      0.86      0.86     18979\n",
      "\n"
     ]
    },
    {
     "data": {
      "image/png": "[encoded data removed]",
      "text/plain": [
       "<Figure size 432x288 with 2 Axes>"
      ]
     },
     "metadata": {
      "needs_background": "light"
     },
     "output_type": "display_data"
    }
   ],
   "source": [
    "for param in model.parameters():\n",
    "    param.requires_grad = False\n",
    "model.eval();\n",
    "\n",
    "test_dataloader = torch.utils.data.DataLoader(Dataset(test_df), batch_size=2)\n",
    "\n",
    "use_cuda = torch.cuda.is_available()\n",
    "device = torch.device(\"cuda\" if use_cuda else \"cpu\")\n",
    "\n",
    "real_values, predicted_values = [], []\n",
    "cont = 0\n",
    "for test_input, test_label in notebook.tqdm(test_dataloader):\n",
    "    cont += 1\n",
    "    \n",
    "    test_label = test_label.to(device)\n",
    "    mask = test_input['attention_mask'].to(device)\n",
    "    input_id = test_input['input_ids'].squeeze(1).to(device)\n",
    "    pred = model(input_id, mask)\n",
    "    \n",
    "    for i in range(len(test_label.cpu().numpy())):\n",
    "        real_values.append(test_label.cpu().numpy()[i])\n",
    "        predicted_values.append(pred.argmax(dim=1).cpu().numpy()[i])\n",
    "    \n",
    "    \n",
    "from sklearn.metrics import confusion_matrix, ConfusionMatrixDisplay\n",
    "cm = confusion_matrix(real_values, predicted_values)\n",
    "\n",
    "disp = ConfusionMatrixDisplay(confusion_matrix=cm, display_labels=['no-clickbait', 'clickbait'])\n",
    "disp.plot(xticks_rotation='vertical')\n",
    "\n",
    "print(classification_report(real_values, predicted_values, target_names=['no-clickbait', 'clickbait']))"
   ]
  },
  {
   "cell_type": "markdown",
   "id": "e7fac608",
   "metadata": {},
   "source": [
    "Hasta ahora, la mayor accuracy la hemos obtenido con el modelo simple, sin data augmentation. Aún así, és preferible utilizar el modelo entrenado con el dataset aumentado, ya que como hemos podido clasificar mejor las muestras que son clickbait. Después hemos visto que aumentar el parámetro weight_decay no ha tenido muy buenos resultados.\n",
    "Al cambiar el optimizador a AdamW con weight_decay=0.1 hemos disminuido la loss. Vamos a probar un modelo con el optimizador AdamW pero con el weight_decay=0.01"
   ]
  },
  {
   "cell_type": "code",
   "execution_count": 15,
   "id": "2fbc5f74",
   "metadata": {},
   "outputs": [],
   "source": [
    "def train(model, train_data, val_data, learning_rate, epochs):\n",
    "\n",
    "    train, val = Dataset(train_data), Dataset(val_data)\n",
    "\n",
    "    train_dataloader = torch.utils.data.DataLoader(train, batch_size=2, shuffle=True)\n",
    "    val_dataloader = torch.utils.data.DataLoader(val, batch_size=2)\n",
    "\n",
    "    use_cuda = torch.cuda.is_available()\n",
    "    device = torch.device(\"cuda\" if use_cuda else \"cpu\")\n",
    "\n",
    "    criterion = nn.CrossEntropyLoss()\n",
    "    optimizer = AdamW(model.parameters(), lr= learning_rate)\n",
    "\n",
    "    if use_cuda:\n",
    "\n",
    "            model = model.cuda()\n",
    "            criterion = criterion.cuda()\n",
    "    \n",
    "\n",
    "    for epoch_num in range(epochs):\n",
    "\n",
    "            total_acc_train = 0\n",
    "            total_loss_train = 0\n",
    "\n",
    "            for train_input, train_label in notebook.tqdm(train_dataloader):\n",
    "\n",
    "                train_label = train_label.to(device)\n",
    "                mask = train_input['attention_mask'].to(device)\n",
    "                input_id = train_input['input_ids'].squeeze(1).to(device)\n",
    "\n",
    "                output = model(input_id, mask)\n",
    "                \n",
    "                batch_loss = criterion(output, train_label)\n",
    "                total_loss_train += batch_loss.item()\n",
    "                \n",
    "                acc = (output.argmax(dim=1) == train_label).sum().item()\n",
    "                total_acc_train += acc\n",
    "\n",
    "                model.zero_grad()\n",
    "                batch_loss.backward()\n",
    "                optimizer.step()\n",
    "            \n",
    "            total_acc_val = 0\n",
    "            total_loss_val = 0\n",
    "\n",
    "            with torch.no_grad():\n",
    "\n",
    "                for val_input, val_label in val_dataloader:\n",
    "\n",
    "                    val_label = val_label.to(device)\n",
    "                    mask = val_input['attention_mask'].to(device)\n",
    "                    input_id = val_input['input_ids'].squeeze(1).to(device)\n",
    "\n",
    "                    output = model(input_id, mask)\n",
    "\n",
    "                    batch_loss = criterion(output, val_label)\n",
    "                    total_loss_val += batch_loss.item()\n",
    "                    \n",
    "                    acc = (output.argmax(dim=1) == val_label).sum().item()\n",
    "                    total_acc_val += acc\n",
    "            \n",
    "            print(\n",
    "                f'Epochs: {epoch_num + 1} | Train Loss: {total_loss_train / len(train_data): .3f} \\\n",
    "                | Train Accuracy: {total_acc_train / len(train_data): .3f} \\\n",
    "                | Val Loss: {total_loss_val / len(val_data): .3f} \\\n",
    "                | Val Accuracy: {total_acc_val / len(val_data): .3f}')\n",
    "                  "
   ]
  },
  {
   "cell_type": "code",
   "execution_count": 16,
   "id": "417089b8",
   "metadata": {},
   "outputs": [
    {
     "name": "stderr",
     "output_type": "stream",
     "text": [
      "Some weights of the model checkpoint at bert-base-cased were not used when initializing BertModel: ['cls.predictions.transform.dense.weight', 'cls.predictions.transform.LayerNorm.weight', 'cls.seq_relationship.bias', 'cls.seq_relationship.weight', 'cls.predictions.decoder.weight', 'cls.predictions.transform.dense.bias', 'cls.predictions.transform.LayerNorm.bias', 'cls.predictions.bias']\n",
      "- This IS expected if you are initializing BertModel from the checkpoint of a model trained on another task or with another architecture (e.g. initializing a BertForSequenceClassification model from a BertForPreTraining model).\n",
      "- This IS NOT expected if you are initializing BertModel from the checkpoint of a model that you expect to be exactly identical (initializing a BertForSequenceClassification model from a BertForSequenceClassification model).\n"
     ]
    },
    {
     "name": "stdout",
     "output_type": "stream",
     "text": [
      "Starting training...\n"
     ]
    },
    {
     "data": {
      "application/vnd.jupyter.widget-view+json": {
       "model_id": "31fa2e3467d74ad7a991a546255fb3bd",
       "version_major": 2,
       "version_minor": 0
      },
      "text/plain": [
       "  0%|          | 0/14530 [00:00<?, ?it/s]"
      ]
     },
     "metadata": {},
     "output_type": "display_data"
    },
    {
     "name": "stdout",
     "output_type": "stream",
     "text": [
      "Epochs: 1 | Train Loss:  0.155                 | Train Accuracy:  0.868                 | Val Loss:  0.163                 | Val Accuracy:  0.859\n"
     ]
    },
    {
     "data": {
      "application/vnd.jupyter.widget-view+json": {
       "model_id": "887a9d6ee08041a081ef0ca84c327155",
       "version_major": 2,
       "version_minor": 0
      },
      "text/plain": [
       "  0%|          | 0/14530 [00:00<?, ?it/s]"
      ]
     },
     "metadata": {},
     "output_type": "display_data"
    },
    {
     "name": "stdout",
     "output_type": "stream",
     "text": [
      "Epochs: 2 | Train Loss:  0.104                 | Train Accuracy:  0.915                 | Val Loss:  0.159                 | Val Accuracy:  0.860\n"
     ]
    }
   ],
   "source": [
    "train_df = pd.read_csv('train_data_augmentation.csv')\n",
    "test_df = pd.read_csv('webis_test.csv')\n",
    "test_df['postText'] = test_df['postText'].astype(str).fillna(\"DUMMY_VALUE\")\n",
    "train_df['postText'] = train_df['postText'].astype(str).fillna(\"DUMMY_VALUE\")\n",
    "\n",
    "EPOCHS = 2\n",
    "model = BertClassifier()\n",
    "LR = 1e-6\n",
    "\n",
    "print(\"Starting training...\")\n",
    "train(model, train_df, test_df, LR, EPOCHS)"
   ]
  },
  {
   "cell_type": "code",
   "execution_count": 17,
   "id": "b6b31c17",
   "metadata": {
    "scrolled": false
   },
   "outputs": [
    {
     "data": {
      "application/vnd.jupyter.widget-view+json": {
       "model_id": "ae7484a17afc40bd89ec4d1643bc0e90",
       "version_major": 2,
       "version_minor": 0
      },
      "text/plain": [
       "  0%|          | 0/9490 [00:00<?, ?it/s]"
      ]
     },
     "metadata": {},
     "output_type": "display_data"
    },
    {
     "name": "stdout",
     "output_type": "stream",
     "text": [
      "              precision    recall  f1-score   support\n",
      "\n",
      "no-clickbait       0.89      0.94      0.91     14464\n",
      "   clickbait       0.75      0.63      0.69      4515\n",
      "\n",
      "    accuracy                           0.86     18979\n",
      "   macro avg       0.82      0.78      0.80     18979\n",
      "weighted avg       0.86      0.86      0.86     18979\n",
      "\n"
     ]
    },
    {
     "data": {
      "image/png": "[encoded data removed]",
      "text/plain": [
       "<Figure size 432x288 with 2 Axes>"
      ]
     },
     "metadata": {
      "needs_background": "light"
     },
     "output_type": "display_data"
    }
   ],
   "source": [
    "for param in model.parameters():\n",
    "    param.requires_grad = False\n",
    "model.eval();\n",
    "\n",
    "test_dataloader = torch.utils.data.DataLoader(Dataset(test_df), batch_size=2)\n",
    "\n",
    "use_cuda = torch.cuda.is_available()\n",
    "device = torch.device(\"cuda\" if use_cuda else \"cpu\")\n",
    "\n",
    "real_values, predicted_values = [], []\n",
    "cont = 0\n",
    "for test_input, test_label in notebook.tqdm(test_dataloader):\n",
    "    cont += 1\n",
    "    \n",
    "    test_label = test_label.to(device)\n",
    "    mask = test_input['attention_mask'].to(device)\n",
    "    input_id = test_input['input_ids'].squeeze(1).to(device)\n",
    "    pred = model(input_id, mask)\n",
    "    \n",
    "    for i in range(len(test_label.cpu().numpy())):\n",
    "        real_values.append(test_label.cpu().numpy()[i])\n",
    "        predicted_values.append(pred.argmax(dim=1).cpu().numpy()[i])\n",
    "    \n",
    "    \n",
    "from sklearn.metrics import confusion_matrix, ConfusionMatrixDisplay\n",
    "cm = confusion_matrix(real_values, predicted_values)\n",
    "\n",
    "disp = ConfusionMatrixDisplay(confusion_matrix=cm, display_labels=['no-clickbait', 'clickbait'])\n",
    "disp.plot(xticks_rotation='vertical')\n",
    "\n",
    "print(classification_report(real_values, predicted_values, target_names=['no-clickbait', 'clickbait']))"
   ]
  },
  {
   "cell_type": "markdown",
   "id": "c4ca6543",
   "metadata": {},
   "source": [
    "Después de haber evaluado todos estos modelos, podemos concluir que el mejor modelo es el que hemos utilizado utilizando data augmentation, utilizando la función de Cross Entropy como loss y un optimizador Adam."
   ]
  }
 ],
 "metadata": {
  "kernelspec": {
   "display_name": "Python 3 (ipykernel)",
   "language": "python",
   "name": "python3"
  },
  "language_info": {
   "codemirror_mode": {
    "name": "ipython",
    "version": 3
   },
   "file_extension": ".py",
   "mimetype": "text/x-python",
   "name": "python",
   "nbconvert_exporter": "python",
   "pygments_lexer": "ipython3",
   "version": "3.9.7"
  }
 },
 "nbformat": 4,
 "nbformat_minor": 5
}
